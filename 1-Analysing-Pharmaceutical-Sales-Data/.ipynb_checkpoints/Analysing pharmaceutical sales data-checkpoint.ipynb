{
 "cells": [
  {
   "cell_type": "markdown",
   "metadata": {},
   "source": [
    "# Loading libraries"
   ]
  },
  {
   "cell_type": "code",
   "execution_count": 1,
   "metadata": {},
   "outputs": [],
   "source": [
    "import pandas as pd\n",
    "import numpy as np\n",
    "import matplotlib.pyplot as plt\n",
    "import re\n",
    "import calendar\n",
    "\n",
    "from pprint import pprint\n",
    "\n",
    "from datetime import datetime\n",
    "\n",
    "from IPython.core.display import HTML\n",
    "\n",
    "from sklearn import linear_model\n",
    "from sklearn.cluster import KMeans\n",
    "from sklearn.decomposition import PCA\n",
    "from sklearn.model_selection import train_test_split\n",
    "from sklearn.preprocessing import LabelEncoder, OneHotEncoder, StandardScaler\n",
    "from sklearn.preprocessing import PolynomialFeatures\n",
    "from sklearn.metrics import mean_squared_error, r2_score\n",
    "from sklearn.svm import SVR\n",
    "from sklearn.ensemble import VotingRegressor\n",
    "\n",
    "from pylab import rcParams\n",
    "\n",
    "# Additional configuration\n",
    "np.set_printoptions(precision=2)\n",
    "%matplotlib inline\n"
   ]
  },
  {
   "cell_type": "markdown",
   "metadata": {},
   "source": [
    "# On which day of the week is the second drug (M01AE) most often sold?"
   ]
  },
  {
   "cell_type": "code",
   "execution_count": 2,
   "metadata": {},
   "outputs": [],
   "source": [
    "pharmaDF = pd.read_csv(\"data/salesdaily.csv\")"
   ]
  },
  {
   "cell_type": "code",
   "execution_count": 3,
   "metadata": {},
   "outputs": [
    {
     "data": {
      "text/html": [
       "<div>\n",
       "<style scoped>\n",
       "    .dataframe tbody tr th:only-of-type {\n",
       "        vertical-align: middle;\n",
       "    }\n",
       "\n",
       "    .dataframe tbody tr th {\n",
       "        vertical-align: top;\n",
       "    }\n",
       "\n",
       "    .dataframe thead th {\n",
       "        text-align: right;\n",
       "    }\n",
       "</style>\n",
       "<table border=\"1\" class=\"dataframe\">\n",
       "  <thead>\n",
       "    <tr style=\"text-align: right;\">\n",
       "      <th></th>\n",
       "      <th>datum</th>\n",
       "      <th>M01AB</th>\n",
       "      <th>M01AE</th>\n",
       "      <th>N02BA</th>\n",
       "      <th>N02BE</th>\n",
       "      <th>N05B</th>\n",
       "      <th>N05C</th>\n",
       "      <th>R03</th>\n",
       "      <th>R06</th>\n",
       "      <th>Year</th>\n",
       "      <th>Month</th>\n",
       "      <th>Hour</th>\n",
       "      <th>Weekday Name</th>\n",
       "    </tr>\n",
       "  </thead>\n",
       "  <tbody>\n",
       "    <tr>\n",
       "      <th>0</th>\n",
       "      <td>1/2/2014</td>\n",
       "      <td>0.0</td>\n",
       "      <td>3.67</td>\n",
       "      <td>3.4</td>\n",
       "      <td>32.40</td>\n",
       "      <td>7.0</td>\n",
       "      <td>0.0</td>\n",
       "      <td>0.0</td>\n",
       "      <td>2.0</td>\n",
       "      <td>2014</td>\n",
       "      <td>1</td>\n",
       "      <td>248</td>\n",
       "      <td>Thursday</td>\n",
       "    </tr>\n",
       "    <tr>\n",
       "      <th>1</th>\n",
       "      <td>1/3/2014</td>\n",
       "      <td>8.0</td>\n",
       "      <td>4.00</td>\n",
       "      <td>4.4</td>\n",
       "      <td>50.60</td>\n",
       "      <td>16.0</td>\n",
       "      <td>0.0</td>\n",
       "      <td>20.0</td>\n",
       "      <td>4.0</td>\n",
       "      <td>2014</td>\n",
       "      <td>1</td>\n",
       "      <td>276</td>\n",
       "      <td>Friday</td>\n",
       "    </tr>\n",
       "    <tr>\n",
       "      <th>2</th>\n",
       "      <td>1/4/2014</td>\n",
       "      <td>2.0</td>\n",
       "      <td>1.00</td>\n",
       "      <td>6.5</td>\n",
       "      <td>61.85</td>\n",
       "      <td>10.0</td>\n",
       "      <td>0.0</td>\n",
       "      <td>9.0</td>\n",
       "      <td>1.0</td>\n",
       "      <td>2014</td>\n",
       "      <td>1</td>\n",
       "      <td>276</td>\n",
       "      <td>Saturday</td>\n",
       "    </tr>\n",
       "    <tr>\n",
       "      <th>3</th>\n",
       "      <td>1/5/2014</td>\n",
       "      <td>4.0</td>\n",
       "      <td>3.00</td>\n",
       "      <td>7.0</td>\n",
       "      <td>41.10</td>\n",
       "      <td>8.0</td>\n",
       "      <td>0.0</td>\n",
       "      <td>3.0</td>\n",
       "      <td>0.0</td>\n",
       "      <td>2014</td>\n",
       "      <td>1</td>\n",
       "      <td>276</td>\n",
       "      <td>Sunday</td>\n",
       "    </tr>\n",
       "    <tr>\n",
       "      <th>4</th>\n",
       "      <td>1/6/2014</td>\n",
       "      <td>5.0</td>\n",
       "      <td>1.00</td>\n",
       "      <td>4.5</td>\n",
       "      <td>21.70</td>\n",
       "      <td>16.0</td>\n",
       "      <td>2.0</td>\n",
       "      <td>6.0</td>\n",
       "      <td>2.0</td>\n",
       "      <td>2014</td>\n",
       "      <td>1</td>\n",
       "      <td>276</td>\n",
       "      <td>Monday</td>\n",
       "    </tr>\n",
       "  </tbody>\n",
       "</table>\n",
       "</div>"
      ],
      "text/plain": [
       "      datum  M01AB  M01AE  N02BA  N02BE  N05B  N05C   R03  R06  Year  Month  \\\n",
       "0  1/2/2014    0.0   3.67    3.4  32.40   7.0   0.0   0.0  2.0  2014      1   \n",
       "1  1/3/2014    8.0   4.00    4.4  50.60  16.0   0.0  20.0  4.0  2014      1   \n",
       "2  1/4/2014    2.0   1.00    6.5  61.85  10.0   0.0   9.0  1.0  2014      1   \n",
       "3  1/5/2014    4.0   3.00    7.0  41.10   8.0   0.0   3.0  0.0  2014      1   \n",
       "4  1/6/2014    5.0   1.00    4.5  21.70  16.0   2.0   6.0  2.0  2014      1   \n",
       "\n",
       "   Hour Weekday Name  \n",
       "0   248     Thursday  \n",
       "1   276       Friday  \n",
       "2   276     Saturday  \n",
       "3   276       Sunday  \n",
       "4   276       Monday  "
      ]
     },
     "execution_count": 3,
     "metadata": {},
     "output_type": "execute_result"
    }
   ],
   "source": [
    "pharmaDF.head()"
   ]
  },
  {
   "cell_type": "code",
   "execution_count": 5,
   "metadata": {},
   "outputs": [],
   "source": [
    "# Group the second drug sales by weekday name\n",
    "questionOneResult = pharmaDF[['M01AE', 'Weekday Name']].groupby(['Weekday Name'], as_index=False).sum().sort_values('M01AE', ascending=False)"
   ]
  },
  {
   "cell_type": "code",
   "execution_count": 6,
   "metadata": {},
   "outputs": [],
   "source": [
    "questionOneResultDay = questionOneResult.iloc[0,0]\n",
    "questionOneResultValue = round(questionOneResult.iloc[0,1], 2)"
   ]
  },
  {
   "cell_type": "code",
   "execution_count": 7,
   "metadata": {},
   "outputs": [
    {
     "name": "stdout",
     "output_type": "stream",
     "text": [
      "The second drug, M01AE, was most often sold on Sunday with the volume of 1384.94\n"
     ]
    }
   ],
   "source": [
    "print('The second drug, M01AE, was most often sold on ' + str(questionOneResultDay) + ' with the volume of ' + str(questionOneResultValue))"
   ]
  },
  {
   "cell_type": "markdown",
   "metadata": {},
   "source": [
    "# Which three drugs have the highest sales in Jan 2015, Jul 2016, Sep 2017"
   ]
  },
  {
   "cell_type": "code",
   "execution_count": 9,
   "metadata": {},
   "outputs": [],
   "source": [
    "pharmaDF = pd.read_csv(\"data/salesmonthly.csv\")"
   ]
  },
  {
   "cell_type": "code",
   "execution_count": 10,
   "metadata": {},
   "outputs": [
    {
     "data": {
      "text/html": [
       "<div>\n",
       "<style scoped>\n",
       "    .dataframe tbody tr th:only-of-type {\n",
       "        vertical-align: middle;\n",
       "    }\n",
       "\n",
       "    .dataframe tbody tr th {\n",
       "        vertical-align: top;\n",
       "    }\n",
       "\n",
       "    .dataframe thead th {\n",
       "        text-align: right;\n",
       "    }\n",
       "</style>\n",
       "<table border=\"1\" class=\"dataframe\">\n",
       "  <thead>\n",
       "    <tr style=\"text-align: right;\">\n",
       "      <th></th>\n",
       "      <th>datum</th>\n",
       "      <th>M01AB</th>\n",
       "      <th>M01AE</th>\n",
       "      <th>N02BA</th>\n",
       "      <th>N02BE</th>\n",
       "      <th>N05B</th>\n",
       "      <th>N05C</th>\n",
       "      <th>R03</th>\n",
       "      <th>R06</th>\n",
       "    </tr>\n",
       "  </thead>\n",
       "  <tbody>\n",
       "    <tr>\n",
       "      <th>0</th>\n",
       "      <td>2014-01-31</td>\n",
       "      <td>127.69</td>\n",
       "      <td>99.090</td>\n",
       "      <td>152.100</td>\n",
       "      <td>878.030</td>\n",
       "      <td>354.0</td>\n",
       "      <td>50.0</td>\n",
       "      <td>112.0</td>\n",
       "      <td>48.2</td>\n",
       "    </tr>\n",
       "    <tr>\n",
       "      <th>1</th>\n",
       "      <td>2014-02-28</td>\n",
       "      <td>133.32</td>\n",
       "      <td>126.050</td>\n",
       "      <td>177.000</td>\n",
       "      <td>1001.900</td>\n",
       "      <td>347.0</td>\n",
       "      <td>31.0</td>\n",
       "      <td>122.0</td>\n",
       "      <td>36.2</td>\n",
       "    </tr>\n",
       "    <tr>\n",
       "      <th>2</th>\n",
       "      <td>2014-03-31</td>\n",
       "      <td>137.44</td>\n",
       "      <td>92.950</td>\n",
       "      <td>147.655</td>\n",
       "      <td>779.275</td>\n",
       "      <td>232.0</td>\n",
       "      <td>20.0</td>\n",
       "      <td>112.0</td>\n",
       "      <td>85.4</td>\n",
       "    </tr>\n",
       "    <tr>\n",
       "      <th>3</th>\n",
       "      <td>2014-04-30</td>\n",
       "      <td>113.10</td>\n",
       "      <td>89.475</td>\n",
       "      <td>130.900</td>\n",
       "      <td>698.500</td>\n",
       "      <td>209.0</td>\n",
       "      <td>18.0</td>\n",
       "      <td>97.0</td>\n",
       "      <td>73.7</td>\n",
       "    </tr>\n",
       "    <tr>\n",
       "      <th>4</th>\n",
       "      <td>2014-05-31</td>\n",
       "      <td>101.79</td>\n",
       "      <td>119.933</td>\n",
       "      <td>132.100</td>\n",
       "      <td>628.780</td>\n",
       "      <td>270.0</td>\n",
       "      <td>23.0</td>\n",
       "      <td>107.0</td>\n",
       "      <td>123.7</td>\n",
       "    </tr>\n",
       "  </tbody>\n",
       "</table>\n",
       "</div>"
      ],
      "text/plain": [
       "        datum   M01AB    M01AE    N02BA     N02BE   N05B  N05C    R03    R06\n",
       "0  2014-01-31  127.69   99.090  152.100   878.030  354.0  50.0  112.0   48.2\n",
       "1  2014-02-28  133.32  126.050  177.000  1001.900  347.0  31.0  122.0   36.2\n",
       "2  2014-03-31  137.44   92.950  147.655   779.275  232.0  20.0  112.0   85.4\n",
       "3  2014-04-30  113.10   89.475  130.900   698.500  209.0  18.0   97.0   73.7\n",
       "4  2014-05-31  101.79  119.933  132.100   628.780  270.0  23.0  107.0  123.7"
      ]
     },
     "execution_count": 10,
     "metadata": {},
     "output_type": "execute_result"
    }
   ],
   "source": [
    "pharmaDF.head()"
   ]
  },
  {
   "cell_type": "code",
   "execution_count": 11,
   "metadata": {},
   "outputs": [],
   "source": [
    "def top3byMonth(month, year):\n",
    "    \"\"\"\n",
    "    given a month and a year\n",
    "    find top 3 drugs sold\n",
    "    \"\"\"\n",
    "    month = str(month) if (month > 9) else '0'+str(month)\n",
    "    year = str(year)\n",
    "    # filter by date\n",
    "    sales = pharmaDF.loc[pharmaDF['datum'].str.contains('^'+year+'\\-'+month+'', flags=re.I, regex=True)]\n",
    "    # reset index\n",
    "    sales = sales.reset_index()\n",
    "    # sort values horizontally\n",
    "    topSales = sales[['M01AB', 'M01AE', 'N02BA', 'N02BE', 'N05B', 'N05C', 'R03', 'R06']].sort_values(by=0, ascending=False, axis=1)\n",
    "    # print results\n",
    "    print('Top 3 drugs by sale in '+calendar.month_name[int(month)]+' '+year)\n",
    "    for field in topSales.columns.values[0:3]:\n",
    "        print(' - Product: ' + str(field) + ', Volume sold: ' + str(round(topSales[field].iloc[0], 2)))\n",
    "    print(\"\\n\")"
   ]
  },
  {
   "cell_type": "code",
   "execution_count": 12,
   "metadata": {},
   "outputs": [
    {
     "name": "stdout",
     "output_type": "stream",
     "text": [
      "Top 3 drugs by sale in January 2015\n",
      " - Product: N02BE, Volume sold: 1044.24\n",
      " - Product: N05B, Volume sold: 463.0\n",
      " - Product: R03, Volume sold: 177.25\n",
      "\n",
      "\n",
      "Top 3 drugs by sale in July 2016\n",
      " - Product: N02BE, Volume sold: 652.36\n",
      " - Product: N05B, Volume sold: 240.0\n",
      " - Product: M01AB, Volume sold: 203.97\n",
      "\n",
      "\n",
      "Top 3 drugs by sale in September 2017\n",
      " - Product: N02BE, Volume sold: 863.75\n",
      " - Product: N05B, Volume sold: 223.0\n",
      " - Product: R03, Volume sold: 139.0\n",
      "\n",
      "\n"
     ]
    }
   ],
   "source": [
    "# top3 drugs by sale in January 2015\n",
    "top3byMonth(1, 2015)\n",
    "\n",
    "# top3 drugs by sale in July 2016\n",
    "top3byMonth(7, 2016)\n",
    "\n",
    "# top3 drugs by sale in September 2017\n",
    "top3byMonth(9, 2017)"
   ]
  },
  {
   "cell_type": "markdown",
   "metadata": {},
   "source": [
    "# Which drug has sold most often on Mondays in 2017?"
   ]
  },
  {
   "cell_type": "code",
   "execution_count": 13,
   "metadata": {},
   "outputs": [],
   "source": [
    "pharmaDF = pd.read_csv(\"data/salesdaily.csv\")"
   ]
  },
  {
   "cell_type": "code",
   "execution_count": 14,
   "metadata": {},
   "outputs": [
    {
     "data": {
      "text/html": [
       "<div>\n",
       "<style scoped>\n",
       "    .dataframe tbody tr th:only-of-type {\n",
       "        vertical-align: middle;\n",
       "    }\n",
       "\n",
       "    .dataframe tbody tr th {\n",
       "        vertical-align: top;\n",
       "    }\n",
       "\n",
       "    .dataframe thead th {\n",
       "        text-align: right;\n",
       "    }\n",
       "</style>\n",
       "<table border=\"1\" class=\"dataframe\">\n",
       "  <thead>\n",
       "    <tr style=\"text-align: right;\">\n",
       "      <th></th>\n",
       "      <th>datum</th>\n",
       "      <th>M01AB</th>\n",
       "      <th>M01AE</th>\n",
       "      <th>N02BA</th>\n",
       "      <th>N02BE</th>\n",
       "      <th>N05B</th>\n",
       "      <th>N05C</th>\n",
       "      <th>R03</th>\n",
       "      <th>R06</th>\n",
       "      <th>Year</th>\n",
       "      <th>Month</th>\n",
       "      <th>Hour</th>\n",
       "      <th>Weekday Name</th>\n",
       "    </tr>\n",
       "  </thead>\n",
       "  <tbody>\n",
       "    <tr>\n",
       "      <th>0</th>\n",
       "      <td>1/2/2014</td>\n",
       "      <td>0.0</td>\n",
       "      <td>3.67</td>\n",
       "      <td>3.4</td>\n",
       "      <td>32.40</td>\n",
       "      <td>7.0</td>\n",
       "      <td>0.0</td>\n",
       "      <td>0.0</td>\n",
       "      <td>2.0</td>\n",
       "      <td>2014</td>\n",
       "      <td>1</td>\n",
       "      <td>248</td>\n",
       "      <td>Thursday</td>\n",
       "    </tr>\n",
       "    <tr>\n",
       "      <th>1</th>\n",
       "      <td>1/3/2014</td>\n",
       "      <td>8.0</td>\n",
       "      <td>4.00</td>\n",
       "      <td>4.4</td>\n",
       "      <td>50.60</td>\n",
       "      <td>16.0</td>\n",
       "      <td>0.0</td>\n",
       "      <td>20.0</td>\n",
       "      <td>4.0</td>\n",
       "      <td>2014</td>\n",
       "      <td>1</td>\n",
       "      <td>276</td>\n",
       "      <td>Friday</td>\n",
       "    </tr>\n",
       "    <tr>\n",
       "      <th>2</th>\n",
       "      <td>1/4/2014</td>\n",
       "      <td>2.0</td>\n",
       "      <td>1.00</td>\n",
       "      <td>6.5</td>\n",
       "      <td>61.85</td>\n",
       "      <td>10.0</td>\n",
       "      <td>0.0</td>\n",
       "      <td>9.0</td>\n",
       "      <td>1.0</td>\n",
       "      <td>2014</td>\n",
       "      <td>1</td>\n",
       "      <td>276</td>\n",
       "      <td>Saturday</td>\n",
       "    </tr>\n",
       "    <tr>\n",
       "      <th>3</th>\n",
       "      <td>1/5/2014</td>\n",
       "      <td>4.0</td>\n",
       "      <td>3.00</td>\n",
       "      <td>7.0</td>\n",
       "      <td>41.10</td>\n",
       "      <td>8.0</td>\n",
       "      <td>0.0</td>\n",
       "      <td>3.0</td>\n",
       "      <td>0.0</td>\n",
       "      <td>2014</td>\n",
       "      <td>1</td>\n",
       "      <td>276</td>\n",
       "      <td>Sunday</td>\n",
       "    </tr>\n",
       "    <tr>\n",
       "      <th>4</th>\n",
       "      <td>1/6/2014</td>\n",
       "      <td>5.0</td>\n",
       "      <td>1.00</td>\n",
       "      <td>4.5</td>\n",
       "      <td>21.70</td>\n",
       "      <td>16.0</td>\n",
       "      <td>2.0</td>\n",
       "      <td>6.0</td>\n",
       "      <td>2.0</td>\n",
       "      <td>2014</td>\n",
       "      <td>1</td>\n",
       "      <td>276</td>\n",
       "      <td>Monday</td>\n",
       "    </tr>\n",
       "  </tbody>\n",
       "</table>\n",
       "</div>"
      ],
      "text/plain": [
       "      datum  M01AB  M01AE  N02BA  N02BE  N05B  N05C   R03  R06  Year  Month  \\\n",
       "0  1/2/2014    0.0   3.67    3.4  32.40   7.0   0.0   0.0  2.0  2014      1   \n",
       "1  1/3/2014    8.0   4.00    4.4  50.60  16.0   0.0  20.0  4.0  2014      1   \n",
       "2  1/4/2014    2.0   1.00    6.5  61.85  10.0   0.0   9.0  1.0  2014      1   \n",
       "3  1/5/2014    4.0   3.00    7.0  41.10   8.0   0.0   3.0  0.0  2014      1   \n",
       "4  1/6/2014    5.0   1.00    4.5  21.70  16.0   2.0   6.0  2.0  2014      1   \n",
       "\n",
       "   Hour Weekday Name  \n",
       "0   248     Thursday  \n",
       "1   276       Friday  \n",
       "2   276     Saturday  \n",
       "3   276       Sunday  \n",
       "4   276       Monday  "
      ]
     },
     "execution_count": 14,
     "metadata": {},
     "output_type": "execute_result"
    }
   ],
   "source": [
    "pharmaDF.head()"
   ]
  },
  {
   "cell_type": "code",
   "execution_count": 15,
   "metadata": {},
   "outputs": [],
   "source": [
    "pharmaDFMondays2017 = pharmaDF.loc[pharmaDF['datum'].str.contains('2017', flags=re.I, regex=True) & (pharmaDF['Weekday Name'] == 'Monday')]"
   ]
  },
  {
   "cell_type": "code",
   "execution_count": 16,
   "metadata": {},
   "outputs": [],
   "source": [
    "pharmaDFMondays2017Top = pharmaDFMondays2017.groupby(['Weekday Name'], as_index=False).sum()"
   ]
  },
  {
   "cell_type": "code",
   "execution_count": 17,
   "metadata": {},
   "outputs": [],
   "source": [
    "pharmaDFMondays2017Top = pharmaDFMondays2017Top[['M01AB', 'M01AE', 'N02BA', 'N02BE', 'N05B', 'N05C', 'R03', 'R06']].sort_values(by=0, ascending=False, axis=1)"
   ]
  },
  {
   "cell_type": "code",
   "execution_count": 18,
   "metadata": {},
   "outputs": [
    {
     "name": "stdout",
     "output_type": "stream",
     "text": [
      "The drug most often sold on Mondays in 2017 is N02BE with the volume of 1160.56\n"
     ]
    }
   ],
   "source": [
    "for field in pharmaDFMondays2017Top.columns.values[0:1]:\n",
    "    print('The drug most often sold on Mondays in 2017 is ' + str(field) + ' with the volume of ' + str(round(pharmaDFMondays2017Top[field].iloc[0], 2)))"
   ]
  },
  {
   "cell_type": "markdown",
   "metadata": {},
   "source": [
    "# What medicine sales may be in January 2020?"
   ]
  },
  {
   "cell_type": "code",
   "execution_count": 19,
   "metadata": {},
   "outputs": [],
   "source": [
    "def scatterData(X_train, y_train, X_test, y_test, title):\n",
    "    plt.title('Prediction using ' + title)\n",
    "    plt.xlabel('Month sequence', fontsize=20)\n",
    "    plt.ylabel('Sales', fontsize=20)\n",
    "\n",
    "    # Scatter Plot\n",
    "    plt.scatter(X_train, y_train, color='blue', label='Training observation points')\n",
    "    plt.scatter(X_test, y_test, color='cyan', label='Testing observation points')"
   ]
  },
  {
   "cell_type": "code",
   "execution_count": 43,
   "metadata": {},
   "outputs": [],
   "source": [
    "def predictLinearRegression(X_train, y_train, X_test, y_test):\n",
    "\n",
    "    scatterData(X_train, y_train, X_test, y_test, 'Linear Regression')\n",
    "    \n",
    "    reg = linear_model.LinearRegression()\n",
    "    reg.fit(X_train, y_train)\n",
    "    plt.plot(X_train, reg.predict(X_train), color='red', label='Linear regressor')\n",
    "    plt.legend()\n",
    "    plt.show()\n",
    "\n",
    "    # LINEAR REGRESSION - Predict/Test model\n",
    "    y_predict_linear = reg.predict(X_test)\n",
    "\n",
    "    # LINEAR REGRESSION - Predict for January 2020\n",
    "    linear_predict = scale_y.inverse_transform(reg.predict(scale_X.transform([[predictFor]])))[0][0]\n",
    "    # linear_predict = reg.predict([[predictFor]])[0]\n",
    "\n",
    "    # LINEAR REGRESSION - Accuracy\n",
    "    accuracy = reg.score(X_test, y_test)\n",
    "\n",
    "    # LINEAR REGRESSION - Error\n",
    "    error = round(np.mean((y_predict_linear-y_test)**2), 2)\n",
    "    \n",
    "    # Results\n",
    "    display(HTML('<p>Linear Regression: <strong style=\"color: rgb(240,40,40)\">' + str(\"{0:.2f}\".format(linear_predict)) + '</strong> <span style=\"color:rgb(120,120,120)\">(Accuracy: ' + str(\"{0:.2f}\".format(accuracy*100)) + '%, Error: ' + str(\"{0:.2f}\".format(error)) + ')</span></p>'))\n",
    "\n",
    "    return {'regressor':reg, 'values':linear_predict}\n"
   ]
  },
  {
   "cell_type": "code",
   "execution_count": 50,
   "metadata": {},
   "outputs": [],
   "source": [
    "def predictPolynominalRegression(X_train, y_train, X_test, y_test):\n",
    "    \n",
    "    scatterData(X_train, y_train, X_test, y_test, 'Polynominal Regression')\n",
    "    \n",
    "    poly_reg = PolynomialFeatures(degree = 2)\n",
    "    X_poly = poly_reg.fit_transform(X_train)\n",
    "    poly_reg_model = linear_model.LinearRegression()\n",
    "    poly_reg_model.fit(X_poly, y_train)\n",
    "    plt.plot(X_train, poly_reg_model.predict(poly_reg.fit_transform(X_train)), color='green', label='Polinominal regressor')\n",
    "    plt.legend()\n",
    "    plt.show()\n",
    "\n",
    "    # POLYNOMINAL REGRESSION - Predict/Test model\n",
    "    y_predict_polynominal = poly_reg_model.predict(X_poly)\n",
    "\n",
    "    # POLYNOMINAL REGRESSION - Predict for January 2020\n",
    "    polynominal_predict = scale_y.inverse_transform(poly_reg_model.predict(poly_reg.fit_transform(scale_X.transform([[predictFor]]))))[0][0]\n",
    "\n",
    "    # POLYNOMINAL REGRESSION - Accuracy\n",
    "    X_poly_test = poly_reg.fit_transform(X_test)\n",
    "    accuracy = poly_reg_model.score(X_poly_test, y_test)\n",
    "\n",
    "    # POLYNOMINAL REGRESSION - Error\n",
    "    error = round(np.mean((y_predict_polynominal-y_train)**2), 2)\n",
    "\n",
    "    # Result\n",
    "    display(HTML('<p>Polynominal Regression: <strong style=\"color: rgb(240,40,40)\">' + str(\"{0:.2f}\".format(polynominal_predict)) + '</strong> <span style=\"color:rgb(120,120,120)\">(Accuracy: ' + str(\"{0:.2f}\".format(accuracy*100)) + '%, Error: ' + str(\"{0:.2f}\".format(error)) + ')</span></p>'))\n",
    "    return {'regressor':poly_reg_model, 'values':polynominal_predict}\n"
   ]
  },
  {
   "cell_type": "code",
   "execution_count": 65,
   "metadata": {},
   "outputs": [],
   "source": [
    "def predictSVR(X_train, y_train, X_test, y_test):\n",
    "    \n",
    "    scatterData(X_train, y_train, X_test, y_test, 'Simple Vector Regression (SVR)')\n",
    "\n",
    "    svr_regressor = SVR(kernel='rbf', gamma='auto')\n",
    "    svr_regressor.fit(X_train, y_train.ravel())\n",
    "\n",
    "    # plt.scatter(X_train, y_train, color='red', label='Actual observation points')\n",
    "    plt.plot(X_train, svr_regressor.predict(X_train), label='SVR regressor')\n",
    "    plt.legend()\n",
    "    plt.show()\n",
    "\n",
    "    # SIMPLE VECTOR REGRESSION (SVR) - Predict/Test model\n",
    "    y_predict_svr = svr_regressor.predict(X_test)\n",
    "\n",
    "    # SIMPLE VECTOR REGRESSION (SVR) - Predict for January 2020\n",
    "    svr_predict = scale_y.inverse_transform(svr_regressor.predict(scale_X.transform([[predictFor]])))[0]\n",
    "\n",
    "    # SIMPLE VECTOR REGRESSION (SVR) - Accuracy\n",
    "    accuracy = svr_regressor.score(X_test, y_test)\n",
    "\n",
    "    # SIMPLE VECTOR REGRESSION (SVR) - Error\n",
    "    error = round(np.mean((y_predict_svr-y_train)**2), 2)\n",
    "    \n",
    "    # Result\n",
    "    display(HTML('<p>Simple Vector Regression (SVR): <strong style=\"color: rgb(240,40,40)\">' + str(\"{0:.2f}\".format(svr_predict)) + '</strong> <span style=\"color:rgb(120,120,120)\">(Accuracy: ' + str(\"{0:.2f}\".format(accuracy*100)) + '%, Error: ' + str(\"{0:.2f}\".format(error)) + ')</span></p>'))\n",
    "    return {'regressor':svr_regressor, 'values':svr_predict}\n"
   ]
  },
  {
   "cell_type": "code",
   "execution_count": 42,
   "metadata": {},
   "outputs": [],
   "source": [
    "product = 'M01AE'\n",
    "\n",
    "# for storing all regression results\n",
    "regResults = pd.DataFrame(columns=('Linear', 'Polynominal', 'SVR', 'Voting Regressor'), index=[product])\n",
    "\n",
    "# to display a larger graph than a default with specify some additional parameters for Matplotlib library. This step is optional.\n",
    "rcParams['figure.figsize'] = 12, 8"
   ]
  },
  {
   "cell_type": "code",
   "execution_count": 67,
   "metadata": {
    "scrolled": false
   },
   "outputs": [
    {
     "data": {
      "text/html": [
       "<h1>Predictions for the product M01AE sales in January 2020</h1>"
      ],
      "text/plain": [
       "<IPython.core.display.HTML object>"
      ]
     },
     "metadata": {},
     "output_type": "display_data"
    },
    {
     "data": {
      "image/png": "[encoded data removed]",
      "text/plain": [
       "<Figure size 864x576 with 1 Axes>"
      ]
     },
     "metadata": {
      "needs_background": "light"
     },
     "output_type": "display_data"
    },
    {
     "data": {
      "text/html": [
       "<p>Linear Regression: <strong style=\"color: rgb(240,40,40)\">113.19</strong> <span style=\"color:rgb(120,120,120)\">(Accuracy: -2.85%, Error: 1.03)</span></p>"
      ],
      "text/plain": [
       "<IPython.core.display.HTML object>"
      ]
     },
     "metadata": {},
     "output_type": "display_data"
    },
    {
     "data": {
      "image/png": "[encoded data removed]",
      "text/plain": [
       "<Figure size 864x576 with 1 Axes>"
      ]
     },
     "metadata": {
      "needs_background": "light"
     },
     "output_type": "display_data"
    },
    {
     "data": {
      "text/html": [
       "<p>Polynominal Regression: <strong style=\"color: rgb(240,40,40)\">100.63</strong> <span style=\"color:rgb(120,120,120)\">(Accuracy: 31.49%, Error: 0.90)</span></p>"
      ],
      "text/plain": [
       "<IPython.core.display.HTML object>"
      ]
     },
     "metadata": {},
     "output_type": "display_data"
    },
    {
     "data": {
      "image/png": "[encoded data removed]",
      "text/plain": [
       "<Figure size 864x576 with 1 Axes>"
      ]
     },
     "metadata": {
      "needs_background": "light"
     },
     "output_type": "display_data"
    },
    {
     "data": {
      "text/html": [
       "<p>Simple Vector Regression (SVR): <strong style=\"color: rgb(240,40,40)\">107.99</strong> <span style=\"color:rgb(120,120,120)\">(Accuracy: 19.50%, Error: 1.06)</span></p>"
      ],
      "text/plain": [
       "<IPython.core.display.HTML object>"
      ]
     },
     "metadata": {},
     "output_type": "display_data"
    },
    {
     "data": {
      "text/html": [
       "<p>Voting Regressor: <strong style=\"color: rgb(240,40,40)\">111.45</strong></p>"
      ],
      "text/plain": [
       "<IPython.core.display.HTML object>"
      ]
     },
     "metadata": {},
     "output_type": "display_data"
    }
   ],
   "source": [
    "pharmaDF = pd.read_csv(\"data/salesmonthly.csv\")\n",
    "\n",
    "pharmaDFSmall = pharmaDF.loc[pharmaDF['datum'].str.contains(\"2017\") | pharmaDF['datum'].str.contains(\"2018\") | pharmaDF['datum'].str.contains(\"2019\")]\n",
    "\n",
    "pharmaDFSmall = pharmaDFSmall.reset_index()\n",
    "\n",
    "# adding a sequence number for each month\n",
    "pharmaDFSmall['datumNumber'] = 1\n",
    "for index, row in pharmaDFSmall.iterrows():\n",
    "    pharmaDFSmall.loc[index, 'datumNumber'] = index+1\n",
    "\n",
    "# last available month is quite low which may indicate that it might be incomplete\n",
    "# and skewing results and we can see a confirmation of that in salesdaily.csv\n",
    "# so we're dropping it\n",
    "pharmaDFSmall.drop(pharmaDFSmall.tail(1).index,inplace=True)\n",
    "\n",
    "# delete if sales is 0\n",
    "pharmaDFSmall = pharmaDFSmall[pharmaDFSmall['M01AE'] != 0]\n",
    "\n",
    "# What value we predict for? January 2020. Because we have data until October 2019 not December 2019 we're predicting for 3 months ahead\n",
    "predictFor = len(pharmaDFSmall)+3\n",
    "\n",
    "# for storing regression results for the interation\n",
    "regValues = {}\n",
    "\n",
    "display(HTML('<h1>Predictions for the product ' + str(product) + ' sales in January 2020</h1>'))\n",
    "\n",
    "pharmaDFSmall4Split = pharmaDFSmall[['datumNumber', product]]\n",
    "\n",
    "# We are going to keep 30% of the dataset in test dataset\n",
    "train, test = train_test_split(pharmaDFSmall4Split, test_size=3/10, random_state=0)\n",
    "\n",
    "trainSorted = train.sort_values('datumNumber', ascending=True)\n",
    "testSorted = test.sort_values('datumNumber', ascending=True)\n",
    "\n",
    "X_train = trainSorted[['datumNumber']].values\n",
    "y_train = trainSorted[product].values\n",
    "X_test = testSorted[['datumNumber']].values\n",
    "y_test = testSorted[product].values\n",
    "# X_train, X_test, y_train, y_test = train_test_split(X, y, test_size=3/10, random_state=0)\n",
    "\n",
    "# Performing feature scaling\n",
    "\n",
    "scale_X = StandardScaler()\n",
    "scale_y = StandardScaler()\n",
    "\n",
    "X_train = scale_X.fit_transform(X_train)\n",
    "y_train = scale_y.fit_transform(y_train.reshape(-1, 1))\n",
    "\n",
    "X_test = scale_X.fit_transform(X_test)\n",
    "y_test = scale_y.fit_transform(y_test.reshape(-1, 1))\n",
    "\n",
    "# LINEAR REGRESSION\n",
    "linearResult = predictLinearRegression(X_train, y_train, X_test, y_test)\n",
    "reg = linearResult['regressor']\n",
    "regValues['Linear'] = linearResult['values']\n",
    "\n",
    "# POLYNOMINAL REGRESSION\n",
    "polynominalResult = predictPolynominalRegression(X_train, y_train, X_test, y_test)\n",
    "polynominal_regressor = polynominalResult['regressor']\n",
    "regValues['Polynominal'] = polynominalResult['values']\n",
    "\n",
    "# SIMPLE VECTOR REGRESSION (SVR)\n",
    "svrResult = predictSVR(X_train, y_train, X_test, y_test)\n",
    "svr_regressor = svrResult['regressor']\n",
    "regValues['SVR'] = svrResult['values']\n",
    "\n",
    "# Voting Regressor\n",
    "vRegressor = VotingRegressor(estimators=[('reg', reg), ('polynominal_regressor', polynominal_regressor), ('svr_regressor', svr_regressor)])\n",
    "\n",
    "vRegressorRes = vRegressor.fit(X_train, y_train.ravel())\n",
    "\n",
    "# VotingRegressor - Predict for January 2020\n",
    "vRegressor_predict = scale_y.inverse_transform(vRegressor.predict(scale_X.transform([[predictFor]])))[0]\n",
    "regValues['Voting Regressor'] = vRegressor_predict\n",
    "display(HTML('<p>Voting Regressor: <strong style=\"color: rgb(240,40,40)\">' + str(\"{0:.2f}\".format(vRegressor_predict)) + '</strong></p>'))\n",
    "    \n",
    "# regResults = regResults.append(regValues, ignore_index=True)\n",
    "regResults.loc[product] = regValues"
   ]
  },
  {
   "cell_type": "code",
   "execution_count": 49,
   "metadata": {},
   "outputs": [
    {
     "data": {
      "text/plain": [
       "sklearn.preprocessing._data.PolynomialFeatures"
      ]
     },
     "execution_count": 49,
     "metadata": {},
     "output_type": "execute_result"
    }
   ],
   "source": [
    "poly_reg = PolynomialFeatures(degree = 2)\n",
    "type(poly_reg)"
   ]
  },
  {
   "cell_type": "code",
   "execution_count": null,
   "metadata": {},
   "outputs": [],
   "source": []
  }
 ],
 "metadata": {
  "hide_input": false,
  "kernelspec": {
   "display_name": "Python 3",
   "language": "python",
   "name": "python3"
  },
  "language_info": {
   "codemirror_mode": {
    "name": "ipython",
    "version": 3
   },
   "file_extension": ".py",
   "mimetype": "text/x-python",
   "name": "python",
   "nbconvert_exporter": "python",
   "pygments_lexer": "ipython3",
   "version": "3.7.6"
  },
  "toc": {
   "base_numbering": 1,
   "nav_menu": {},
   "number_sections": true,
   "sideBar": true,
   "skip_h1_title": false,
   "title_cell": "Table of Contents",
   "title_sidebar": "Contents",
   "toc_cell": false,
   "toc_position": {},
   "toc_section_display": true,
   "toc_window_display": false
  }
 },
 "nbformat": 4,
 "nbformat_minor": 4
}
